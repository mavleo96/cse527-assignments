{
 "cells": [
  {
   "cell_type": "markdown",
   "metadata": {
    "ein.tags": "worksheet-0",
    "id": "hVwJj1nUL4lx"
   },
   "source": [
    "# CSE527 Homework 1 (part 3)\n",
    "**Due date: 11:59 pm on Sep 22, 2024 (EST)**\n",
    "\n",
    "In this semester, we will use Google Colab for the assignments, which allows us to utilize resources that some of us might not have in their local machines such as GPUs. You will need to use your Stony Brook (*.stonybrook.edu) account for coding and Google Drive to save your results.\n",
    "\n",
    "## Google Colab Tutorial\n",
    "---\n",
    "Go to https://colab.research.google.com/notebooks/, you will see a tutorial named \"Welcome to Colaboratory\" file, where you can learn the basics of using google colab.\n",
    "\n",
    "Settings used for assignments: ***Edit -> Notebook Settings -> Runtime Type (Python 3)***.\n",
    "\n",
    "## Setup Environment\n",
    "---\n",
    "\n",
    "\n",
    "\n",
    "\n",
    "\n"
   ]
  },
  {
   "cell_type": "markdown",
   "metadata": {
    "id": "p-UnOMINVrKQ"
   },
   "source": [
    "## Problem 3: Ray casting using Blinn-Phong model (40pts)\n",
    "\n",
    "\n",
    "#### Description\n",
    "----\n",
    "In this problem, you will be estimating the camera captured image given the camera parameters, scene geometry, lighting and materials using\n",
    "[Blinn-Phong illumination model](https://dl.acm.org/doi/abs/10.1145/563858.563893), an improved version of [Phong illumination model](https://dl.acm.org/doi/abs/10.1145/360825.360839).\n",
    "\n",
    "The six parts below will guide you to render an image using ray casting and Phong model step by step."
   ]
  },
  {
   "cell_type": "code",
   "execution_count": 1,
   "metadata": {
    "colab": {
     "base_uri": "https://localhost:8080/"
    },
    "executionInfo": {
     "elapsed": 561,
     "status": "ok",
     "timestamp": 1727063154837,
     "user": {
      "displayName": "Vijayabharathi Murugan",
      "userId": "17663246142477335044"
     },
     "user_tz": 240
    },
    "id": "TxrQ1z4sObHr",
    "outputId": "834c5de3-c9cd-4dd3-ce21-cbc4d0fa17af"
   },
   "outputs": [
    {
     "name": "stdout",
     "output_type": "stream",
     "text": [
      "4.10.0\n"
     ]
    }
   ],
   "source": [
    "# import packages here\n",
    "import numpy as np\n",
    "import cv2 as cv\n",
    "from math import sqrt, fmod, pi\n",
    "import matplotlib.pyplot as plt\n",
    "\n",
    "print(cv.__version__) # verify OpenCV version\n",
    "\n",
    "# figure and show\n",
    "def imshow(im, title=None):\n",
    "    im = im.squeeze()\n",
    "\n",
    "    # remove white paddings\n",
    "    fig = plt.figure()\n",
    "    # fig.canvas.window().statusBar().setVisible(False)\n",
    "\n",
    "    # display image\n",
    "    ax = plt.imshow(im, interpolation='bilinear')\n",
    "    plt.axis('off')\n",
    "    plt.tight_layout(pad=0)\n",
    "    plt.subplots_adjust(left=0, right=1, top=1, bottom=0, hspace=0, wspace=0)\n",
    "    plt.margins(0, 0)\n",
    "    plt.gca().xaxis.set_major_locator(plt.NullLocator())\n",
    "    plt.gca().yaxis.set_major_locator(plt.NullLocator())\n",
    "    if title is not None:\n",
    "        plt.title(title)\n",
    "        plt.subplots_adjust(left=0, right=1, top=0.9, bottom=0, hspace=0, wspace=0)\n",
    "    plt.show()\n",
    "    return fig\n",
    "\n",
    "# A 3x1 vector class extended from np.ndarray\n",
    "class Vec3(np.ndarray):\n",
    "    def __new__(cls, x, y=None, z=None):\n",
    "        if y is None and z is None:\n",
    "            data = np.array([x, x, x])\n",
    "        else:\n",
    "            data = np.array([x, y, z])\n",
    "        return data.view(cls)\n",
    "\n",
    "    # vector normal\n",
    "    def norm(self):\n",
    "        return np.linalg.norm(self)\n",
    "\n",
    "    # normalized vector\n",
    "    def normalize(self):\n",
    "        return self / self.norm()\n",
    "\n",
    "    # vector cross product\n",
    "    def cross(self, b):\n",
    "        return np.cross(self, b)"
   ]
  },
  {
   "cell_type": "markdown",
   "metadata": {
    "id": "hdhZr1B_Wvko"
   },
   "source": [
    "### Part 1: Compute camera intrinsic matrix and camera ray\n",
    "(10 points) Compute the 3x3 camera intrinsic matrix from the given camera image size, sensor size and focal length. Then, for each camera image pixel, we shoot a camera ray from the camera optical center (ray origin) and pass it through the pixel. Implement your alogrithm in `cam_ray_dir`.\n",
    "\n",
    "**Hint**: refer to slides, you will compute each camera ray direction using inverse of camera matrix.\n"
   ]
  },
  {
   "cell_type": "code",
   "execution_count": 2,
   "metadata": {
    "colab": {
     "base_uri": "https://localhost:8080/"
    },
    "executionInfo": {
     "elapsed": 6,
     "status": "ok",
     "timestamp": 1727063154837,
     "user": {
      "displayName": "Vijayabharathi Murugan",
      "userId": "17663246142477335044"
     },
     "user_tz": 240
    },
    "id": "Z45QddFWWRII",
    "outputId": "d55d144e-e687-416e-e5d2-d6d6709dba43"
   },
   "outputs": [
    {
     "name": "stdout",
     "output_type": "stream",
     "text": [
      "camera intrinsics = \n",
      " [[694.44444444   0.         250.        ]\n",
      " [  0.         694.44444444 250.        ]\n",
      " [  0.           0.           1.        ]]\n"
     ]
    }
   ],
   "source": [
    "# create a perspective camera model. DO NOT MODIFY them\n",
    "cam_pos = Vec3(0, 0, 0)\n",
    "cam_h, cam_w = (500, 500)  # camera image size (pixel)\n",
    "sensor_h, sensor_w = (36, 36)  # camera sensor size (mm)\n",
    "focal_length = 50  # camera lens focal length (mm)\n",
    "\n",
    "fx, fy = (focal_length / sensor_w * cam_w, focal_length / sensor_h * cam_h)\n",
    "cx, cy = (cam_w / 2, cam_h / 2)\n",
    "cam_k = np.array([[fx, 0, cx], [0, fy, cy], [0, 0, 1]])  # camera intrinsics\n",
    "\n",
    "inv_cam_k = np.linalg.inv(cam_k)  # precompute inverse of camera intrinsics\n",
    "\n",
    "# compute the direction of the camera ray that passes through camera optical center (ray origin) and pixel (x, y)\n",
    "def cam_ray_dir(inv_cam_k, cam_pos, focal_length, x, y):\n",
    "  ray_dir = None\n",
    "\n",
    "  ##########--WRITE YOUR CODE HERE--##########\n",
    "\n",
    "  # direction = normalize(f * inv(K) * [x, y, 1].T - Oc)\n",
    "  ray_dir = (focal_length * (inv_cam_k @ Vec3(x, y, 1)) - cam_pos).normalize()\n",
    "\n",
    "  ##########-------END OF CODE-------##########\n",
    "  return ray_dir\n",
    "\n",
    "print('camera intrinsics = \\n', cam_k)"
   ]
  },
  {
   "cell_type": "markdown",
   "metadata": {
    "id": "IqByBVKMXYW4"
   },
   "source": [
    "### Part 2: Compute ray-object intersection\n",
    "(10 points) For each camera ray, you will compute the intersection point of the camera ray with each object in the scene and store the intersection information in an `Intersection` object. Implement sphere-ray intersections, plane-ray intersections and ray-scene intersections below."
   ]
  },
  {
   "cell_type": "code",
   "execution_count": 3,
   "metadata": {
    "executionInfo": {
     "elapsed": 193,
     "status": "ok",
     "timestamp": 1727063287197,
     "user": {
      "displayName": "Vijayabharathi Murugan",
      "userId": "17663246142477335044"
     },
     "user_tz": 240
    },
    "id": "QpMMWA71WLsa"
   },
   "outputs": [],
   "source": [
    "# A class used to store ray-object intersection information\n",
    "class Intersection(object):\n",
    "    def __init__(self, point, distance, normal, obj):\n",
    "        self.p = point  # intersection point/position\n",
    "        self.d = distance  # distance between this intersection and ray origin\n",
    "        self.n = normal  # surface normal at this intersection\n",
    "        self.obj = obj  # which object this intersection belongs to\n",
    "\n",
    "# Light ray class\n",
    "class Ray(object):\n",
    "    def __init__(self, origin, direction):\n",
    "        self.o = origin\n",
    "        self.d = direction\n",
    "\n",
    "    # ray-object intersection\n",
    "    def intersect(self, obj):\n",
    "        return obj.intersect(self)\n",
    "\n",
    "    # ray intersect scene i.e., check intersections with all objects.\n",
    "    # return the closest if at lease one intersection, otherwise return none\n",
    "    def intersect_scene(self, scene, ignored_obj=None):\n",
    "        inter = None # returned inter is an instance of Intersection\n",
    "\n",
    "        ##########--WRITE YOUR CODE HERE--##########\n",
    "\n",
    "        for obj in scene:\n",
    "            new_inter = obj.intersect(self)\n",
    "\n",
    "            if new_inter is None:\n",
    "                continue\n",
    "            elif inter is None or new_inter.d < inter.d:\n",
    "                inter = new_inter\n",
    "\n",
    "        ##########-------END OF CODE-------##########\n",
    "\n",
    "        return inter\n",
    "\n",
    "# Sphere class\n",
    "class Sphere(object):\n",
    "    def __init__(self, center, radius, material=None):\n",
    "        self.c = center\n",
    "        self.r = radius\n",
    "        self.rr = radius ** 2  # precompute r^2 for faster ray casting\n",
    "        self.mat = material  # Phong material\n",
    "\n",
    "    def intersect(self, l):  # intersect with ray l\n",
    "        inter = None # returned inter is an instance of Intersection\n",
    "        # solve quadratic equation of ray-sphere intersection\n",
    "\n",
    "        ##########--WRITE YOUR CODE HERE--##########\n",
    "\n",
    "        # Intersection point for sphere:\n",
    "        # solution of at**2 + bt + c = 0\n",
    "        # for\n",
    "        # a = dir.dir\n",
    "        # b = 2(origin-center).d\n",
    "        # c = (origin-center).(origin-center) - radius**2\n",
    "        a = l.d.dot(l.d)\n",
    "        b = 2 * (l.o - self.c).dot(l.d)\n",
    "        c = (l.o - self.c).dot((l.o - self.c)) - self.rr\n",
    "\n",
    "        # No intersection of determinant < 0\n",
    "        det = b ** 2 - 4 * a * c\n",
    "        if det < 0:\n",
    "            return None\n",
    "\n",
    "        # Select intersection at lesser distance\n",
    "        t1 = (-b + det ** 0.5) / (2 * a)\n",
    "        t2 = (-b - det ** 0.5) / (2 * a)\n",
    "        t = t1 if t1 < t2 else t2\n",
    "\n",
    "        # Create intersection object\n",
    "        point = l.o + t * l.d\n",
    "        distance = t * l.d.norm()\n",
    "        normal = point - self.c\n",
    "        inter = Intersection(point, distance, normal, self)\n",
    "\n",
    "        ##########-------END OF CODE-------##########\n",
    "\n",
    "        return inter\n",
    "\n",
    "\n",
    "# Plane class\n",
    "class Plane(object):\n",
    "    def __init__(self, point, normal, material=None):\n",
    "        self.p = point  # a point on the plane\n",
    "        self.n = normal  # must be a normalized Vec3\n",
    "        self.mat = material  # Phong material\n",
    "\n",
    "    def intersect(self, l):  # intersect with ray l\n",
    "        inter = None # returned inter is an instance of Intersection\n",
    "\n",
    "        ##########--WRITE YOUR CODE HERE--##########\n",
    "\n",
    "        # Intersection for plane:\n",
    "        # t = (p'-o).N / dir.N\n",
    "        t_num = (self.p - l.o).dot(self.n)\n",
    "        t_den = l.d.dot(self.n)\n",
    "\n",
    "        # Safegaurd for zero denominator\n",
    "        if t_den == 0:\n",
    "          return None\n",
    "        # Compute t\n",
    "        t = (t_num / t_den)\n",
    "        # Safegaurd for negative distances\n",
    "        if t < 0:\n",
    "            return None\n",
    "\n",
    "        # Create intersection object\n",
    "        point = l.o + t * l.d\n",
    "        distance = t * l.d.norm()\n",
    "        normal = self.n\n",
    "        inter = Intersection(point, distance, normal, self)\n",
    "\n",
    "        ##########-------END OF CODE-------##########\n",
    "\n",
    "        return inter"
   ]
  },
  {
   "cell_type": "markdown",
   "metadata": {
    "id": "3pqN9XguYHZb"
   },
   "source": [
    "### Part 3: Render a vanilla ray casting image\n",
    "(10 points) This part aims to help you sanity check the ray-object intersection algorithms above by rendering an image with `vanilla_ray_cast `. You will set a camera image pixel to (0.5,0.5,0.5) if its corresponding camera ray hits an object in the scene, otherwise set it to (0,0,0). You will compute the ray direction using `cam_ray_dir` and create a variable `ray` using `Ray(origin, dir)`, then `vanilla_ray_cast` will compute the current pixel color."
   ]
  },
  {
   "cell_type": "code",
   "execution_count": 4,
   "metadata": {
    "colab": {
     "base_uri": "https://localhost:8080/",
     "height": 730
    },
    "executionInfo": {
     "elapsed": 17254,
     "status": "ok",
     "timestamp": 1727063308720,
     "user": {
      "displayName": "Vijayabharathi Murugan",
      "userId": "17663246142477335044"
     },
     "user_tz": 240
    },
    "id": "-Y64PmH1O-5m",
    "outputId": "e2137699-e071-4042-bad2-c037c425738c"
   },
   "outputs": [
    {
     "name": "stdout",
     "output_type": "stream",
     "text": [
      "Ray casting...\n",
      "0.00%\n",
      "10.00%\n",
      "20.00%\n",
      "30.00%\n",
      "40.00%\n",
      "50.00%\n",
      "60.00%\n",
      "70.00%\n",
      "80.00%\n",
      "90.00%\n"
     ]
    },
    {
     "data": {
      "image/png": "[encoded data removed]",
      "text/plain": [
       "<Figure size 640x480 with 1 Axes>"
      ]
     },
     "metadata": {},
     "output_type": "display_data"
    },
    {
     "data": {
      "text/plain": [
       "True"
      ]
     },
     "execution_count": 4,
     "metadata": {},
     "output_type": "execute_result"
    }
   ],
   "source": [
    "#  Only check if ray intersects the objects or not, does not computer color\n",
    "def vanilla_ray_cast(ray, objects):\n",
    "    inter = ray.intersect_scene(objects)\n",
    "    if inter is None:\n",
    "        color = Vec3(0, 0, 0)\n",
    "    else:\n",
    "        color = Vec3(1, 1, 1)*0.5\n",
    "    return color\n",
    "\n",
    "# initialize scene with three spheres\n",
    "scene = []  # scene stores a list of objects\n",
    "scene.append(Sphere(Vec3(12, 9, 600), 50))\n",
    "scene.append(Sphere(Vec3(-30, 100, 550), 60))\n",
    "scene.append(Sphere(Vec3(80, 95, 630), 65))\n",
    "\n",
    "# camera captured image\n",
    "img = np.zeros((cam_h, cam_w, 3))\n",
    "\n",
    "# render using ray casting\n",
    "print('Ray casting...')\n",
    "for x in range(cam_w):  # for each col\n",
    "    if fmod(x, cam_w // 10) == 0:  # print ray casting progress\n",
    "        print('{:.2f}%'.format(x / cam_w * 100))\n",
    "    for y in range(cam_h):  # for each row\n",
    "\n",
    "        ##########--WRITE YOUR CODE HERE--##########\n",
    "\n",
    "        ray_direction = cam_ray_dir(inv_cam_k, cam_pos, focal_length, x, y)\n",
    "        ray = Ray(cam_pos, ray_direction)\n",
    "\n",
    "        ##########-------END OF CODE-------##########\n",
    "\n",
    "        color = vanilla_ray_cast(ray, scene)\n",
    "        img[y, x] = color\n",
    "\n",
    "# apply gamma correction (1/2.2) for display\n",
    "img = np.power(img, 1 / 2.2)\n",
    "imshow(img)\n",
    "cv.imwrite('results/vanilla_ray_cast.png', img[..., ::-1] * 255)\n",
    "\n"
   ]
  },
  {
   "cell_type": "markdown",
   "metadata": {
    "id": "ODICd6ZraNbS"
   },
   "source": [
    "### Part 4: Render a Lambertian ray casting image\n",
    "(10 points) If Part 3 is correctly implemented, you can estimate a simple lambertian shadings of the scene (add light, material but ignore shadow, ambient and specular).\n",
    "Implement your algorithm in `diffuseColor`. Since we are dealing with colors, Phong materials are created and each object is assigned with a material."
   ]
  },
  {
   "cell_type": "code",
   "execution_count": 5,
   "metadata": {
    "colab": {
     "base_uri": "https://localhost:8080/",
     "height": 730
    },
    "executionInfo": {
     "elapsed": 57809,
     "status": "ok",
     "timestamp": 1727063366528,
     "user": {
      "displayName": "Vijayabharathi Murugan",
      "userId": "17663246142477335044"
     },
     "user_tz": 240
    },
    "id": "eckCzBy_qFfk",
    "outputId": "9d52f5d4-12d7-4f13-df9b-43244da25b0a"
   },
   "outputs": [
    {
     "name": "stdout",
     "output_type": "stream",
     "text": [
      "Ray casting...\n",
      "0.00%\n",
      "10.00%\n",
      "20.00%\n",
      "30.00%\n",
      "40.00%\n",
      "50.00%\n",
      "60.00%\n",
      "70.00%\n",
      "80.00%\n",
      "90.00%\n"
     ]
    },
    {
     "data": {
      "image/png": "[encoded data removed]",
      "text/plain": [
       "<Figure size 640x480 with 1 Axes>"
      ]
     },
     "metadata": {},
     "output_type": "display_data"
    },
    {
     "data": {
      "text/plain": [
       "True"
      ]
     },
     "execution_count": 5,
     "metadata": {},
     "output_type": "execute_result"
    }
   ],
   "source": [
    "# Light source (point light)\n",
    "class Light(object):\n",
    "    def __init__(self, position, power, ambient, diffuse, specular):\n",
    "        self.p = position  # position, Vec3\n",
    "        self.power = power  # light intensity/brightness\n",
    "        self.ambient = ambient\n",
    "        self.diffuse = diffuse\n",
    "        self.specular = specular\n",
    "\n",
    "# Phong diffuse (lambertian) color\n",
    "def diffuseColor(inter, light):\n",
    "    color = 0\n",
    "\n",
    "    ##########--WRITE YOUR CODE HERE--##########\n",
    "\n",
    "    # Compute vectors\n",
    "    light_vector = (light.p - inter.p).normalize()\n",
    "    normal_vector = inter.n.normalize()\n",
    "    reflected_light = 2 * normal_vector * light_vector.dot(normal_vector) - light_vector\n",
    "    viewer_vector = Vec3(0, 0, -1).normalize()\n",
    "\n",
    "    # Ambient: ka * Ia * Il\n",
    "    ambient = (\n",
    "        inter.obj.mat[\"ka\"]\n",
    "        * light.ambient\n",
    "        * light.power\n",
    "    )\n",
    "\n",
    "    # Diffuse: kd * (L.N) * Id * Il\n",
    "    diffuse = (\n",
    "        inter.obj.mat[\"kd\"]\n",
    "        * light_vector.dot(normal_vector)\n",
    "        * light.diffuse\n",
    "        * light.power\n",
    "    )\n",
    "\n",
    "    # Specular: ks * (V.R) ** n * Id * Il\n",
    "    specular = (\n",
    "        inter.obj.mat[\"ks\"]\n",
    "        * viewer_vector.dot(reflected_light) ** inter.obj.mat[\"shine\"]\n",
    "        * light.specular\n",
    "        * light.power\n",
    "    )\n",
    "\n",
    "    color = ambient + diffuse + specular\n",
    "\n",
    "    ##########-------END OF CODE-------##########\n",
    "\n",
    "    return color\n",
    "\n",
    "#  Only compute lambertian (diffuse) color, no ambient or shadow\n",
    "def lambertian_ray_cast(ray, objects, light):\n",
    "    inter = ray.intersect_scene(objects)\n",
    "    if inter is None:\n",
    "        color = Vec3(0, 0, 0)\n",
    "    else:\n",
    "        d = (light.p - inter.p).norm()\n",
    "        color = np.clip(diffuseColor(inter, light) / (4 * pi * d * d), 0, 1)\n",
    "    return color\n",
    "\n",
    "# Render\n",
    "# Phong illumination materials\n",
    "plaster_white = {'ka': Vec3(0.03), 'kd': Vec3(0.5), 'ks': Vec3(0.1), 'shine': 5}\n",
    "plaster_red = {'ka': Vec3(0.9, 0.1, 0.1) * 0.01, 'kd': Vec3(0.9, 0.1, 0.1), 'ks': Vec3(0.1), 'shine': 5}\n",
    "plaster_green = {'ka': Vec3(0.1, 0.9, 0.1) * 0.01, 'kd': Vec3(0.1, 0.9, 0.1), 'ks': Vec3(0.1), 'shine': 5}\n",
    "marble_white = {'ka': Vec3(0.01), 'kd': Vec3(0.8), 'ks': Vec3(1.0), 'shine': 200.0}\n",
    "marble_yellow = {'ka': Vec3(0.8, 0.8, 0.1) * 0.1, 'kd': Vec3(0.8, 0.8, 0.1), 'ks': Vec3(1.0), 'shine': 200.0}\n",
    "plastic_red = {'ka': Vec3(0.7, 0.1, 0.2) * 0.01, 'kd': Vec3(0.7, 0.1, 0.2), 'ks': Vec3(0.2), 'shine': 20}\n",
    "\n",
    "# initialize scene with spheres and a box\n",
    "scene = []  # scene stores a list of objects\n",
    "# a box\n",
    "scene.append(Plane(Vec3(0, -160, 0), Vec3(0, 1, 0), plaster_white))  # ceiling\n",
    "scene.append(Plane(Vec3(0, 160, 0), Vec3(0, -1, 0), plaster_white))  # floor\n",
    "scene.append(Plane(Vec3(-160, 0, 0), Vec3(1, 0, 0), plaster_red))  # left\n",
    "scene.append(Plane(Vec3(160, 0, 0), Vec3(-1, 0, 0), plaster_green))  # right\n",
    "scene.append(Plane(Vec3(0, 0, 780), Vec3(0, 0, -1), plaster_white))  # back\n",
    "# spheres\n",
    "scene.append(Sphere(Vec3(12, 9, 600), 50, marble_white))\n",
    "scene.append(Sphere(Vec3(-30, 100, 550), 60, marble_yellow))\n",
    "scene.append(Sphere(Vec3(80, 95, 630), 65, plastic_red))\n",
    "\n",
    "# initialize a point light\n",
    "light = Light(Vec3(-68, -68, 400), 300000, Vec3(1.0), Vec3(1.0), Vec3(1.0))\n",
    "\n",
    "# camera captured image\n",
    "img = np.zeros((cam_h, cam_w, 3))\n",
    "\n",
    "# render using ray casting\n",
    "print('Ray casting...')\n",
    "for x in range(cam_w):  # for each col\n",
    "    if fmod(x, cam_w // 10) == 0:  # print ray casting progress\n",
    "        print('{:.2f}%'.format(x / cam_w * 100))\n",
    "    for y in range(cam_h):  # for each row\n",
    "\n",
    "        ##########--WRITE YOUR CODE HERE--##########\n",
    "\n",
    "        ray_direction = cam_ray_dir(inv_cam_k, cam_pos, focal_length, x, y)\n",
    "        ray = Ray(cam_pos, ray_direction)\n",
    "\n",
    "        ##########-------END OF CODE-------##########\n",
    "\n",
    "        color = lambertian_ray_cast(ray, scene, light)\n",
    "        img[y, x] = color\n",
    "\n",
    "# apply gamma correction (1/2.2) for display\n",
    "img = np.power(img, 1 / 2.2)\n",
    "imshow(img)\n",
    "cv.imwrite('results/lambertian_ray_cast.png', img[..., ::-1] * 255)\n",
    "\n"
   ]
  },
  {
   "cell_type": "markdown",
   "metadata": {
    "id": "MzvdhAeOmhbs"
   },
   "source": [
    "## What's more?\n",
    "(0 points) For curious students\n",
    "\n",
    "1.   Is the above image photorealistic enough? How can we improve it?\n",
    "  *  Add more lights, materials and objects.\n",
    "  *  Add textures.\n",
    "  *  Render triangle mesh.\n",
    "  *  Acceleration techniques, e.g., depth clipping, bounding box, BVH, k-d tree, multithreading, GPU.\n",
    "  *  Antialiasing.\n",
    "  *  Depth of field.\n",
    "  *  Add transparency, inter-reflection, volume scattering, caustics, etc.\n",
    "\n",
    "\n",
    "2.   How do human visual systems tell whether an image is real or fake? Apparently shadow is an important cue.\n",
    "3.   Inverse problem: can we estimate lighting (direction and color), object surface normal, material and camera parameters from the image above?\n",
    "\n",
    "\n",
    "\n",
    "\n",
    "\n"
   ]
  },
  {
   "cell_type": "markdown",
   "metadata": {
    "id": "PhZehMVdL4mS"
   },
   "source": [
    "\n",
    "## Submission Guidelines\n",
    "\n",
    "This notebook should be submitted as a part of the root folder discussed in the submission guidelines @ CSE527_24F_HW1_P1.ipynb"
   ]
  }
 ],
 "metadata": {
  "anaconda-cloud": {},
  "colab": {
   "provenance": [
    {
     "file_id": "1V9BZ6XGvCjPG4jkAya92LC0NLbU4OM1l",
     "timestamp": 1586639198919
    }
   ],
   "toc_visible": true
  },
  "kernelspec": {
   "display_name": "temp",
   "language": "python",
   "name": "python3"
  },
  "language_info": {
   "codemirror_mode": {
    "name": "ipython",
    "version": 3
   },
   "file_extension": ".py",
   "mimetype": "text/x-python",
   "name": "python",
   "nbconvert_exporter": "python",
   "pygments_lexer": "ipython3",
   "version": "3.12.4"
  },
  "name": "HW3.ipynb"
 },
 "nbformat": 4,
 "nbformat_minor": 0
}
